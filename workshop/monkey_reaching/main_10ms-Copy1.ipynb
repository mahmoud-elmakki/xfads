{
 "cells": [
  {
   "cell_type": "code",
   "execution_count": 3,
   "id": "4b81d342-7a0e-4c58-a0cf-e582565fe507",
   "metadata": {
    "tags": []
   },
   "outputs": [],
   "source": [
    "import numpy as np\n",
    "import pandas as pd\n",
    "import seaborn as sns\n",
    "import math\n",
    "import yaml\n",
    "import hydra\n",
    "\n",
    "import matplotlib.pyplot as plt\n",
    "from matplotlib import cm\n",
    "\n",
    "import torch\n",
    "import pytorch_lightning as lightning\n",
    "\n",
    "from itertools import product\n",
    "from nlb_tools.nwb_interface import NWBDataset\n",
    "\n",
    "from hydra import compose, initialize\n",
    "from xfads import plot_utils\n",
    "from xfads.smoothers.lightning_trainers import LightningMonkeyReaching\n",
    "from xfads.ssm_modules.prebuilt_models import create_xfads_poisson_log_link"
   ]
  },
  {
   "cell_type": "code",
   "execution_count": 4,
   "id": "65a8c816-752b-45c3-89a5-522c41a56a0c",
   "metadata": {
    "tags": []
   },
   "outputs": [],
   "source": [
    "torch.cuda.empty_cache()"
   ]
  },
  {
   "cell_type": "code",
   "execution_count": 5,
   "id": "23a18ad6-e637-4b7e-8253-c18aa54c44b4",
   "metadata": {
    "tags": []
   },
   "outputs": [],
   "source": [
    "hydra.core.global_hydra.GlobalHydra.instance().clear()\n",
    "initialize(version_base=None, config_path=\"\", job_name=\"monkey_reaching\")\n",
    "\n",
    "cfg = compose(config_name=\"config\")"
   ]
  },
  {
   "cell_type": "code",
   "execution_count": 6,
   "id": "98fa84ed-cdf7-44b5-a6be-987b00721900",
   "metadata": {
    "tags": []
   },
   "outputs": [
    {
     "name": "stderr",
     "output_type": "stream",
     "text": [
      "Seed set to 1236\n"
     ]
    }
   ],
   "source": [
    "lightning.seed_everything(cfg.seed, workers=True)\n",
    "torch.set_default_dtype(torch.float32)"
   ]
  },
  {
   "cell_type": "code",
   "execution_count": 7,
   "id": "35e409c9-34f7-42e8-9072-811cf3a3ff8a",
   "metadata": {
    "tags": []
   },
   "outputs": [],
   "source": [
    "def get_int_to_verbose_map():\n",
    "    options = [('S', 'L'), ('E', 'H'), ('1', '2', '3', '4', '5')]\n",
    "    combinations = list(product(*options))\n",
    "    mapping = {i: combination for i, combination in enumerate(combinations)}\n",
    "\n",
    "    return mapping\n",
    "\n",
    "\n",
    "def get_verbose_to_int_map():\n",
    "    options = [('S', 'L'), ('E', 'H'), ('1', '2', '3', '4', '5')]\n",
    "    combinations = list(product(*options))\n",
    "    reverse_mapping = {combination: i for i, combination in enumerate(combinations)}\n",
    "\n",
    "    return reverse_mapping"
   ]
  },
  {
   "cell_type": "code",
   "execution_count": 13,
   "id": "a5ddee10-88f3-482e-92af-569985c4440e",
   "metadata": {
    "tags": []
   },
   "outputs": [
    {
     "name": "stderr",
     "output_type": "stream",
     "text": [
      "/opt/anaconda3/envs/xfads/lib/python3.9/site-packages/hdmf/utils.py:668: UserWarning: Ignoring cached namespace 'hdmf-common' version 1.5.0 because version 1.8.0 is already loaded.\n",
      "  return func(args[0], **pargs)\n",
      "/opt/anaconda3/envs/xfads/lib/python3.9/site-packages/hdmf/utils.py:668: UserWarning: Ignoring cached namespace 'core' version 2.4.0 because version 2.7.0 is already loaded.\n",
      "  return func(args[0], **pargs)\n",
      "/opt/anaconda3/envs/xfads/lib/python3.9/site-packages/hdmf/utils.py:668: UserWarning: Ignoring cached namespace 'hdmf-experimental' version 0.1.0 because version 0.5.0 is already loaded.\n",
      "  return func(args[0], **pargs)\n"
     ]
    }
   ],
   "source": [
    "\"\"\"Downloading the data\"\"\"\n",
    "\n",
    "datapath = 'data/000128/sub-Jenkins/'\n",
    "dataset = NWBDataset(datapath)\n",
    "save_root_path = 'data/'"
   ]
  },
  {
   "cell_type": "code",
   "execution_count": 14,
   "id": "9fe123c0-84a0-49c9-b887-3fe16a41d330",
   "metadata": {
    "tags": []
   },
   "outputs": [
    {
     "name": "stderr",
     "output_type": "stream",
     "text": [
      "Shortened 573 trials to prevent overlap.\n",
      "NaNs found in `self.data`. Dropping 18.19% of points to remove NaNs from `trial_data`.\n"
     ]
    },
    {
     "name": "stdout",
     "output_type": "stream",
     "text": [
      "done\n",
      "MultiIndex([('align_time',   ''),\n",
      "            ('clock_time',   ''),\n",
      "            ('cursor_pos',  'x'),\n",
      "            ('cursor_pos',  'y'),\n",
      "            (   'eye_pos',  'x'),\n",
      "            (   'eye_pos',  'y'),\n",
      "            (  'hand_pos',  'x'),\n",
      "            (  'hand_pos',  'y'),\n",
      "            (  'hand_vel',  'x'),\n",
      "            (  'hand_vel',  'y'),\n",
      "            ...\n",
      "            (    'spikes', 2861),\n",
      "            (    'spikes', 2862),\n",
      "            (    'spikes', 2871),\n",
      "            (    'spikes', 2881),\n",
      "            (    'spikes', 2911),\n",
      "            (    'spikes', 2931),\n",
      "            (    'spikes', 2951),\n",
      "            (    'spikes', 2961),\n",
      "            (  'trial_id',   ''),\n",
      "            ('trial_time',   '')],\n",
      "           length=195)\n"
     ]
    }
   ],
   "source": [
    "# Extract neural data and lagged hand velocity\n",
    "binsize = cfg.bin_sz_ms\n",
    "n_neurons = cfg.n_neurons\n",
    "dataset.resample(binsize)\n",
    "\n",
    "start = -450\n",
    "end = 450\n",
    "trial_length = (end - start) // binsize\n",
    "\n",
    "verbose_to_int_map = get_verbose_to_int_map()\n",
    "int_to_verbose_map = get_int_to_verbose_map()\n",
    "\n",
    "# Extract neural data\n",
    "trial_info = dataset.trial_info  # .dropna()\n",
    "trial_info['color'] = None\n",
    "trial_info['position_id'] = None\n",
    "trial_data = dataset.make_trial_data(align_field='move_onset_time', align_range=(start, end))\n",
    "n_trials = trial_data.shape[0] // trial_length\n",
    "\n",
    "print('done')\n",
    "print(trial_data.columns)"
   ]
  },
  {
   "cell_type": "code",
   "execution_count": 25,
   "id": "653a1dcf-65f4-4285-bc9c-887c7d56ea06",
   "metadata": {
    "tags": []
   },
   "outputs": [
    {
     "data": {
      "text/html": [
       "<div>\n",
       "<style scoped>\n",
       "    .dataframe tbody tr th:only-of-type {\n",
       "        vertical-align: middle;\n",
       "    }\n",
       "\n",
       "    .dataframe tbody tr th {\n",
       "        vertical-align: top;\n",
       "    }\n",
       "\n",
       "    .dataframe thead th {\n",
       "        text-align: right;\n",
       "    }\n",
       "</style>\n",
       "<table border=\"1\" class=\"dataframe\">\n",
       "  <thead>\n",
       "    <tr style=\"text-align: right;\">\n",
       "      <th></th>\n",
       "      <th>trial_id</th>\n",
       "      <th>start_time</th>\n",
       "      <th>end_time</th>\n",
       "      <th>move_onset_time</th>\n",
       "      <th>split</th>\n",
       "      <th>trial_type</th>\n",
       "      <th>trial_version</th>\n",
       "      <th>maze_id</th>\n",
       "      <th>success</th>\n",
       "      <th>target_on_time</th>\n",
       "      <th>go_cue_time</th>\n",
       "      <th>rt</th>\n",
       "      <th>delay</th>\n",
       "      <th>num_targets</th>\n",
       "      <th>target_pos</th>\n",
       "      <th>num_barriers</th>\n",
       "      <th>barrier_pos</th>\n",
       "      <th>active_target</th>\n",
       "      <th>color</th>\n",
       "      <th>position_id</th>\n",
       "    </tr>\n",
       "  </thead>\n",
       "  <tbody>\n",
       "    <tr>\n",
       "      <th>0</th>\n",
       "      <td>0</td>\n",
       "      <td>0 days 00:00:00</td>\n",
       "      <td>0 days 00:00:00.700000</td>\n",
       "      <td>0 days 00:00:00.250000</td>\n",
       "      <td>test</td>\n",
       "      <td>NaN</td>\n",
       "      <td>NaN</td>\n",
       "      <td>NaN</td>\n",
       "      <td>NaN</td>\n",
       "      <td>NaT</td>\n",
       "      <td>NaT</td>\n",
       "      <td>NaN</td>\n",
       "      <td>NaN</td>\n",
       "      <td>NaN</td>\n",
       "      <td>NaN</td>\n",
       "      <td>NaN</td>\n",
       "      <td>NaN</td>\n",
       "      <td>NaN</td>\n",
       "      <td>None</td>\n",
       "      <td>None</td>\n",
       "    </tr>\n",
       "    <tr>\n",
       "      <th>1</th>\n",
       "      <td>1</td>\n",
       "      <td>0 days 00:00:00.800000</td>\n",
       "      <td>0 days 00:00:01.500000</td>\n",
       "      <td>0 days 00:00:01.050000</td>\n",
       "      <td>test</td>\n",
       "      <td>NaN</td>\n",
       "      <td>NaN</td>\n",
       "      <td>NaN</td>\n",
       "      <td>NaN</td>\n",
       "      <td>NaT</td>\n",
       "      <td>NaT</td>\n",
       "      <td>NaN</td>\n",
       "      <td>NaN</td>\n",
       "      <td>NaN</td>\n",
       "      <td>NaN</td>\n",
       "      <td>NaN</td>\n",
       "      <td>NaN</td>\n",
       "      <td>NaN</td>\n",
       "      <td>None</td>\n",
       "      <td>None</td>\n",
       "    </tr>\n",
       "    <tr>\n",
       "      <th>2</th>\n",
       "      <td>2</td>\n",
       "      <td>0 days 00:00:01.600000</td>\n",
       "      <td>0 days 00:00:02.300000</td>\n",
       "      <td>0 days 00:00:01.850000</td>\n",
       "      <td>test</td>\n",
       "      <td>NaN</td>\n",
       "      <td>NaN</td>\n",
       "      <td>NaN</td>\n",
       "      <td>NaN</td>\n",
       "      <td>NaT</td>\n",
       "      <td>NaT</td>\n",
       "      <td>NaN</td>\n",
       "      <td>NaN</td>\n",
       "      <td>NaN</td>\n",
       "      <td>NaN</td>\n",
       "      <td>NaN</td>\n",
       "      <td>NaN</td>\n",
       "      <td>NaN</td>\n",
       "      <td>None</td>\n",
       "      <td>None</td>\n",
       "    </tr>\n",
       "    <tr>\n",
       "      <th>3</th>\n",
       "      <td>3</td>\n",
       "      <td>0 days 00:00:02.400000</td>\n",
       "      <td>0 days 00:00:03.100000</td>\n",
       "      <td>0 days 00:00:02.650000</td>\n",
       "      <td>test</td>\n",
       "      <td>NaN</td>\n",
       "      <td>NaN</td>\n",
       "      <td>NaN</td>\n",
       "      <td>NaN</td>\n",
       "      <td>NaT</td>\n",
       "      <td>NaT</td>\n",
       "      <td>NaN</td>\n",
       "      <td>NaN</td>\n",
       "      <td>NaN</td>\n",
       "      <td>NaN</td>\n",
       "      <td>NaN</td>\n",
       "      <td>NaN</td>\n",
       "      <td>NaN</td>\n",
       "      <td>None</td>\n",
       "      <td>None</td>\n",
       "    </tr>\n",
       "    <tr>\n",
       "      <th>4</th>\n",
       "      <td>4</td>\n",
       "      <td>0 days 00:00:03.200000</td>\n",
       "      <td>0 days 00:00:03.900000</td>\n",
       "      <td>0 days 00:00:03.450000</td>\n",
       "      <td>test</td>\n",
       "      <td>NaN</td>\n",
       "      <td>NaN</td>\n",
       "      <td>NaN</td>\n",
       "      <td>NaN</td>\n",
       "      <td>NaT</td>\n",
       "      <td>NaT</td>\n",
       "      <td>NaN</td>\n",
       "      <td>NaN</td>\n",
       "      <td>NaN</td>\n",
       "      <td>NaN</td>\n",
       "      <td>NaN</td>\n",
       "      <td>NaN</td>\n",
       "      <td>NaN</td>\n",
       "      <td>None</td>\n",
       "      <td>None</td>\n",
       "    </tr>\n",
       "    <tr>\n",
       "      <th>...</th>\n",
       "      <td>...</td>\n",
       "      <td>...</td>\n",
       "      <td>...</td>\n",
       "      <td>...</td>\n",
       "      <td>...</td>\n",
       "      <td>...</td>\n",
       "      <td>...</td>\n",
       "      <td>...</td>\n",
       "      <td>...</td>\n",
       "      <td>...</td>\n",
       "      <td>...</td>\n",
       "      <td>...</td>\n",
       "      <td>...</td>\n",
       "      <td>...</td>\n",
       "      <td>...</td>\n",
       "      <td>...</td>\n",
       "      <td>...</td>\n",
       "      <td>...</td>\n",
       "      <td>...</td>\n",
       "      <td>...</td>\n",
       "    </tr>\n",
       "    <tr>\n",
       "      <th>2864</th>\n",
       "      <td>2864</td>\n",
       "      <td>0 days 02:03:15.800000</td>\n",
       "      <td>0 days 02:03:18.996000</td>\n",
       "      <td>0 days 02:03:17.785000</td>\n",
       "      <td>train</td>\n",
       "      <td>34.0</td>\n",
       "      <td>1.0</td>\n",
       "      <td>91.0</td>\n",
       "      <td>True</td>\n",
       "      <td>0 days 02:03:16.562000</td>\n",
       "      <td>0 days 02:03:17.477000</td>\n",
       "      <td>308.0</td>\n",
       "      <td>915.0</td>\n",
       "      <td>1.0</td>\n",
       "      <td>[[116, -77]]</td>\n",
       "      <td>7.0</td>\n",
       "      <td>[[66, -43, 30, 9], [-66, 1, 11, 70], [-35, 50,...</td>\n",
       "      <td>0.0</td>\n",
       "      <td>None</td>\n",
       "      <td>None</td>\n",
       "    </tr>\n",
       "    <tr>\n",
       "      <th>2865</th>\n",
       "      <td>2865</td>\n",
       "      <td>0 days 02:03:19.100000</td>\n",
       "      <td>0 days 02:03:21.936000</td>\n",
       "      <td>0 days 02:03:20.841000</td>\n",
       "      <td>train</td>\n",
       "      <td>15.0</td>\n",
       "      <td>1.0</td>\n",
       "      <td>75.0</td>\n",
       "      <td>True</td>\n",
       "      <td>0 days 02:03:19.917000</td>\n",
       "      <td>0 days 02:03:20.465000</td>\n",
       "      <td>376.0</td>\n",
       "      <td>548.0</td>\n",
       "      <td>1.0</td>\n",
       "      <td>[[133, -81]]</td>\n",
       "      <td>9.0</td>\n",
       "      <td>[[-33, 47, 37, 6], [-77, 48, 61, 11], [-64, -2...</td>\n",
       "      <td>0.0</td>\n",
       "      <td>None</td>\n",
       "      <td>None</td>\n",
       "    </tr>\n",
       "    <tr>\n",
       "      <th>2866</th>\n",
       "      <td>2866</td>\n",
       "      <td>0 days 02:03:22</td>\n",
       "      <td>0 days 02:03:24.966000</td>\n",
       "      <td>0 days 02:03:23.914000</td>\n",
       "      <td>train</td>\n",
       "      <td>23.0</td>\n",
       "      <td>0.0</td>\n",
       "      <td>67.0</td>\n",
       "      <td>True</td>\n",
       "      <td>0 days 02:03:22.665000</td>\n",
       "      <td>0 days 02:03:23.596000</td>\n",
       "      <td>318.0</td>\n",
       "      <td>931.0</td>\n",
       "      <td>1.0</td>\n",
       "      <td>[[94, -86]]</td>\n",
       "      <td>0.0</td>\n",
       "      <td>[]</td>\n",
       "      <td>0.0</td>\n",
       "      <td>None</td>\n",
       "      <td>None</td>\n",
       "    </tr>\n",
       "    <tr>\n",
       "      <th>2867</th>\n",
       "      <td>2867</td>\n",
       "      <td>0 days 02:03:25</td>\n",
       "      <td>0 days 02:03:28.401000</td>\n",
       "      <td>0 days 02:03:26.816000</td>\n",
       "      <td>val</td>\n",
       "      <td>25.0</td>\n",
       "      <td>2.0</td>\n",
       "      <td>84.0</td>\n",
       "      <td>True</td>\n",
       "      <td>0 days 02:03:25.831000</td>\n",
       "      <td>0 days 02:03:25.863000</td>\n",
       "      <td>953.0</td>\n",
       "      <td>32.0</td>\n",
       "      <td>3.0</td>\n",
       "      <td>[[-111, -82], [-108, 81], [118, 72]]</td>\n",
       "      <td>8.0</td>\n",
       "      <td>[[69, 31, 14, 99], [69, 54, 5, 101], [-62, -48...</td>\n",
       "      <td>2.0</td>\n",
       "      <td>None</td>\n",
       "      <td>None</td>\n",
       "    </tr>\n",
       "    <tr>\n",
       "      <th>2868</th>\n",
       "      <td>2868</td>\n",
       "      <td>0 days 02:03:28.500000</td>\n",
       "      <td>0 days 02:03:31.501000</td>\n",
       "      <td>0 days 02:03:30.383000</td>\n",
       "      <td>val</td>\n",
       "      <td>16.0</td>\n",
       "      <td>0.0</td>\n",
       "      <td>76.0</td>\n",
       "      <td>True</td>\n",
       "      <td>0 days 02:03:29.225000</td>\n",
       "      <td>0 days 02:03:30.007000</td>\n",
       "      <td>376.0</td>\n",
       "      <td>782.0</td>\n",
       "      <td>1.0</td>\n",
       "      <td>[[-118, -83]]</td>\n",
       "      <td>0.0</td>\n",
       "      <td>[]</td>\n",
       "      <td>0.0</td>\n",
       "      <td>None</td>\n",
       "      <td>None</td>\n",
       "    </tr>\n",
       "  </tbody>\n",
       "</table>\n",
       "<p>2869 rows × 20 columns</p>\n",
       "</div>"
      ],
      "text/plain": [
       "      trial_id             start_time               end_time  \\\n",
       "0            0        0 days 00:00:00 0 days 00:00:00.700000   \n",
       "1            1 0 days 00:00:00.800000 0 days 00:00:01.500000   \n",
       "2            2 0 days 00:00:01.600000 0 days 00:00:02.300000   \n",
       "3            3 0 days 00:00:02.400000 0 days 00:00:03.100000   \n",
       "4            4 0 days 00:00:03.200000 0 days 00:00:03.900000   \n",
       "...        ...                    ...                    ...   \n",
       "2864      2864 0 days 02:03:15.800000 0 days 02:03:18.996000   \n",
       "2865      2865 0 days 02:03:19.100000 0 days 02:03:21.936000   \n",
       "2866      2866        0 days 02:03:22 0 days 02:03:24.966000   \n",
       "2867      2867        0 days 02:03:25 0 days 02:03:28.401000   \n",
       "2868      2868 0 days 02:03:28.500000 0 days 02:03:31.501000   \n",
       "\n",
       "            move_onset_time  split  trial_type  trial_version  maze_id  \\\n",
       "0    0 days 00:00:00.250000   test         NaN            NaN      NaN   \n",
       "1    0 days 00:00:01.050000   test         NaN            NaN      NaN   \n",
       "2    0 days 00:00:01.850000   test         NaN            NaN      NaN   \n",
       "3    0 days 00:00:02.650000   test         NaN            NaN      NaN   \n",
       "4    0 days 00:00:03.450000   test         NaN            NaN      NaN   \n",
       "...                     ...    ...         ...            ...      ...   \n",
       "2864 0 days 02:03:17.785000  train        34.0            1.0     91.0   \n",
       "2865 0 days 02:03:20.841000  train        15.0            1.0     75.0   \n",
       "2866 0 days 02:03:23.914000  train        23.0            0.0     67.0   \n",
       "2867 0 days 02:03:26.816000    val        25.0            2.0     84.0   \n",
       "2868 0 days 02:03:30.383000    val        16.0            0.0     76.0   \n",
       "\n",
       "     success         target_on_time            go_cue_time     rt  delay  \\\n",
       "0        NaN                    NaT                    NaT    NaN    NaN   \n",
       "1        NaN                    NaT                    NaT    NaN    NaN   \n",
       "2        NaN                    NaT                    NaT    NaN    NaN   \n",
       "3        NaN                    NaT                    NaT    NaN    NaN   \n",
       "4        NaN                    NaT                    NaT    NaN    NaN   \n",
       "...      ...                    ...                    ...    ...    ...   \n",
       "2864    True 0 days 02:03:16.562000 0 days 02:03:17.477000  308.0  915.0   \n",
       "2865    True 0 days 02:03:19.917000 0 days 02:03:20.465000  376.0  548.0   \n",
       "2866    True 0 days 02:03:22.665000 0 days 02:03:23.596000  318.0  931.0   \n",
       "2867    True 0 days 02:03:25.831000 0 days 02:03:25.863000  953.0   32.0   \n",
       "2868    True 0 days 02:03:29.225000 0 days 02:03:30.007000  376.0  782.0   \n",
       "\n",
       "      num_targets                            target_pos  num_barriers  \\\n",
       "0             NaN                                   NaN           NaN   \n",
       "1             NaN                                   NaN           NaN   \n",
       "2             NaN                                   NaN           NaN   \n",
       "3             NaN                                   NaN           NaN   \n",
       "4             NaN                                   NaN           NaN   \n",
       "...           ...                                   ...           ...   \n",
       "2864          1.0                          [[116, -77]]           7.0   \n",
       "2865          1.0                          [[133, -81]]           9.0   \n",
       "2866          1.0                           [[94, -86]]           0.0   \n",
       "2867          3.0  [[-111, -82], [-108, 81], [118, 72]]           8.0   \n",
       "2868          1.0                         [[-118, -83]]           0.0   \n",
       "\n",
       "                                            barrier_pos  active_target color  \\\n",
       "0                                                   NaN            NaN  None   \n",
       "1                                                   NaN            NaN  None   \n",
       "2                                                   NaN            NaN  None   \n",
       "3                                                   NaN            NaN  None   \n",
       "4                                                   NaN            NaN  None   \n",
       "...                                                 ...            ...   ...   \n",
       "2864  [[66, -43, 30, 9], [-66, 1, 11, 70], [-35, 50,...            0.0  None   \n",
       "2865  [[-33, 47, 37, 6], [-77, 48, 61, 11], [-64, -2...            0.0  None   \n",
       "2866                                                 []            0.0  None   \n",
       "2867  [[69, 31, 14, 99], [69, 54, 5, 101], [-62, -48...            2.0  None   \n",
       "2868                                                 []            0.0  None   \n",
       "\n",
       "     position_id  \n",
       "0           None  \n",
       "1           None  \n",
       "2           None  \n",
       "3           None  \n",
       "4           None  \n",
       "...          ...  \n",
       "2864        None  \n",
       "2865        None  \n",
       "2866        None  \n",
       "2867        None  \n",
       "2868        None  \n",
       "\n",
       "[2869 rows x 20 columns]"
      ]
     },
     "execution_count": 25,
     "metadata": {},
     "output_type": "execute_result"
    }
   ],
   "source": [
    "trial_info"
   ]
  },
  {
   "cell_type": "code",
   "execution_count": 33,
   "id": "b4ec0c6b-bb1a-458a-9afd-86e4ab59bc40",
   "metadata": {
    "tags": []
   },
   "outputs": [
    {
     "data": {
      "text/plain": [
       "MultiIndex([('align_time',   ''),\n",
       "            ('clock_time',   ''),\n",
       "            ('cursor_pos',  'x'),\n",
       "            ('cursor_pos',  'y'),\n",
       "            (   'eye_pos',  'x'),\n",
       "            (   'eye_pos',  'y'),\n",
       "            (  'hand_pos',  'x'),\n",
       "            (  'hand_pos',  'y'),\n",
       "            (  'hand_vel',  'x'),\n",
       "            (  'hand_vel',  'y'),\n",
       "            ...\n",
       "            (    'spikes', 2861),\n",
       "            (    'spikes', 2862),\n",
       "            (    'spikes', 2871),\n",
       "            (    'spikes', 2881),\n",
       "            (    'spikes', 2911),\n",
       "            (    'spikes', 2931),\n",
       "            (    'spikes', 2951),\n",
       "            (    'spikes', 2961),\n",
       "            (  'trial_id',   ''),\n",
       "            ('trial_time',   '')],\n",
       "           length=195)"
      ]
     },
     "execution_count": 33,
     "metadata": {},
     "output_type": "execute_result"
    }
   ],
   "source": [
    "trial_data.columns"
   ]
  },
  {
   "cell_type": "code",
   "execution_count": 35,
   "id": "2fd2ad50-d8b6-4e53-84d9-597d4040d249",
   "metadata": {
    "tags": []
   },
   "outputs": [
    {
     "data": {
      "text/html": [
       "<div>\n",
       "<style scoped>\n",
       "    .dataframe tbody tr th:only-of-type {\n",
       "        vertical-align: middle;\n",
       "    }\n",
       "\n",
       "    .dataframe tbody tr th {\n",
       "        vertical-align: top;\n",
       "    }\n",
       "\n",
       "    .dataframe thead tr th {\n",
       "        text-align: left;\n",
       "    }\n",
       "</style>\n",
       "<table border=\"1\" class=\"dataframe\">\n",
       "  <thead>\n",
       "    <tr>\n",
       "      <th></th>\n",
       "      <th>align_time</th>\n",
       "      <th>clock_time</th>\n",
       "      <th colspan=\"2\" halign=\"left\">cursor_pos</th>\n",
       "      <th colspan=\"2\" halign=\"left\">eye_pos</th>\n",
       "      <th colspan=\"2\" halign=\"left\">hand_pos</th>\n",
       "      <th colspan=\"2\" halign=\"left\">hand_vel</th>\n",
       "      <th>...</th>\n",
       "      <th colspan=\"8\" halign=\"left\">spikes</th>\n",
       "      <th>trial_id</th>\n",
       "      <th>trial_time</th>\n",
       "    </tr>\n",
       "    <tr>\n",
       "      <th></th>\n",
       "      <th></th>\n",
       "      <th></th>\n",
       "      <th>x</th>\n",
       "      <th>y</th>\n",
       "      <th>x</th>\n",
       "      <th>y</th>\n",
       "      <th>x</th>\n",
       "      <th>y</th>\n",
       "      <th>x</th>\n",
       "      <th>y</th>\n",
       "      <th>...</th>\n",
       "      <th>2861</th>\n",
       "      <th>2862</th>\n",
       "      <th>2871</th>\n",
       "      <th>2881</th>\n",
       "      <th>2911</th>\n",
       "      <th>2931</th>\n",
       "      <th>2951</th>\n",
       "      <th>2961</th>\n",
       "      <th></th>\n",
       "      <th></th>\n",
       "    </tr>\n",
       "  </thead>\n",
       "  <tbody>\n",
       "    <tr>\n",
       "      <th>22955</th>\n",
       "      <td>-1 days +23:59:59.540000</td>\n",
       "      <td>0 days 00:07:40.660000</td>\n",
       "      <td>-1.463915</td>\n",
       "      <td>-7.492066</td>\n",
       "      <td>-18.382911</td>\n",
       "      <td>-0.377749</td>\n",
       "      <td>-1.424627</td>\n",
       "      <td>-42.511253</td>\n",
       "      <td>3.055079</td>\n",
       "      <td>-0.315920</td>\n",
       "      <td>...</td>\n",
       "      <td>0.0</td>\n",
       "      <td>0.0</td>\n",
       "      <td>0.0</td>\n",
       "      <td>0.0</td>\n",
       "      <td>0.0</td>\n",
       "      <td>0.0</td>\n",
       "      <td>0.0</td>\n",
       "      <td>0.0</td>\n",
       "      <td>574</td>\n",
       "      <td>0 days 00:00:01.460000</td>\n",
       "    </tr>\n",
       "    <tr>\n",
       "      <th>22956</th>\n",
       "      <td>-1 days +23:59:59.560000</td>\n",
       "      <td>0 days 00:07:40.680000</td>\n",
       "      <td>-1.409679</td>\n",
       "      <td>-7.503377</td>\n",
       "      <td>-18.282735</td>\n",
       "      <td>-0.799903</td>\n",
       "      <td>-1.400660</td>\n",
       "      <td>-42.510206</td>\n",
       "      <td>-5.051846</td>\n",
       "      <td>-0.871977</td>\n",
       "      <td>...</td>\n",
       "      <td>0.0</td>\n",
       "      <td>0.0</td>\n",
       "      <td>0.0</td>\n",
       "      <td>0.0</td>\n",
       "      <td>0.0</td>\n",
       "      <td>0.0</td>\n",
       "      <td>0.0</td>\n",
       "      <td>0.0</td>\n",
       "      <td>574</td>\n",
       "      <td>0 days 00:00:01.480000</td>\n",
       "    </tr>\n",
       "    <tr>\n",
       "      <th>22957</th>\n",
       "      <td>-1 days +23:59:59.580000</td>\n",
       "      <td>0 days 00:07:40.700000</td>\n",
       "      <td>-1.459685</td>\n",
       "      <td>-7.517751</td>\n",
       "      <td>-17.032929</td>\n",
       "      <td>-0.337737</td>\n",
       "      <td>-1.534191</td>\n",
       "      <td>-42.588972</td>\n",
       "      <td>-2.760242</td>\n",
       "      <td>-5.309706</td>\n",
       "      <td>...</td>\n",
       "      <td>0.0</td>\n",
       "      <td>0.0</td>\n",
       "      <td>0.0</td>\n",
       "      <td>0.0</td>\n",
       "      <td>0.0</td>\n",
       "      <td>1.0</td>\n",
       "      <td>1.0</td>\n",
       "      <td>2.0</td>\n",
       "      <td>574</td>\n",
       "      <td>0 days 00:00:01.500000</td>\n",
       "    </tr>\n",
       "    <tr>\n",
       "      <th>22958</th>\n",
       "      <td>-1 days +23:59:59.600000</td>\n",
       "      <td>0 days 00:07:40.720000</td>\n",
       "      <td>-1.621291</td>\n",
       "      <td>-7.682808</td>\n",
       "      <td>-18.543133</td>\n",
       "      <td>-0.939321</td>\n",
       "      <td>-1.494304</td>\n",
       "      <td>-42.601084</td>\n",
       "      <td>2.597506</td>\n",
       "      <td>4.587658</td>\n",
       "      <td>...</td>\n",
       "      <td>0.0</td>\n",
       "      <td>0.0</td>\n",
       "      <td>0.0</td>\n",
       "      <td>0.0</td>\n",
       "      <td>0.0</td>\n",
       "      <td>1.0</td>\n",
       "      <td>1.0</td>\n",
       "      <td>0.0</td>\n",
       "      <td>574</td>\n",
       "      <td>0 days 00:00:01.520000</td>\n",
       "    </tr>\n",
       "    <tr>\n",
       "      <th>22959</th>\n",
       "      <td>-1 days +23:59:59.620000</td>\n",
       "      <td>0 days 00:07:40.740000</td>\n",
       "      <td>-1.477806</td>\n",
       "      <td>-7.588030</td>\n",
       "      <td>-18.233750</td>\n",
       "      <td>-0.126550</td>\n",
       "      <td>-1.505363</td>\n",
       "      <td>-42.536439</td>\n",
       "      <td>-2.003645</td>\n",
       "      <td>-1.305288</td>\n",
       "      <td>...</td>\n",
       "      <td>0.0</td>\n",
       "      <td>1.0</td>\n",
       "      <td>0.0</td>\n",
       "      <td>1.0</td>\n",
       "      <td>0.0</td>\n",
       "      <td>0.0</td>\n",
       "      <td>0.0</td>\n",
       "      <td>1.0</td>\n",
       "      <td>574</td>\n",
       "      <td>0 days 00:00:01.540000</td>\n",
       "    </tr>\n",
       "    <tr>\n",
       "      <th>...</th>\n",
       "      <td>...</td>\n",
       "      <td>...</td>\n",
       "      <td>...</td>\n",
       "      <td>...</td>\n",
       "      <td>...</td>\n",
       "      <td>...</td>\n",
       "      <td>...</td>\n",
       "      <td>...</td>\n",
       "      <td>...</td>\n",
       "      <td>...</td>\n",
       "      <td>...</td>\n",
       "      <td>...</td>\n",
       "      <td>...</td>\n",
       "      <td>...</td>\n",
       "      <td>...</td>\n",
       "      <td>...</td>\n",
       "      <td>...</td>\n",
       "      <td>...</td>\n",
       "      <td>...</td>\n",
       "      <td>...</td>\n",
       "      <td>...</td>\n",
       "    </tr>\n",
       "    <tr>\n",
       "      <th>126225</th>\n",
       "      <td>0 days 00:00:00.340000</td>\n",
       "      <td>0 days 02:03:30.740000</td>\n",
       "      <td>-118.430515</td>\n",
       "      <td>-77.428451</td>\n",
       "      <td>-115.449735</td>\n",
       "      <td>-124.429779</td>\n",
       "      <td>-117.619761</td>\n",
       "      <td>-112.831567</td>\n",
       "      <td>83.182184</td>\n",
       "      <td>-82.032653</td>\n",
       "      <td>...</td>\n",
       "      <td>0.0</td>\n",
       "      <td>0.0</td>\n",
       "      <td>0.0</td>\n",
       "      <td>0.0</td>\n",
       "      <td>0.0</td>\n",
       "      <td>0.0</td>\n",
       "      <td>0.0</td>\n",
       "      <td>0.0</td>\n",
       "      <td>2868</td>\n",
       "      <td>0 days 00:00:02.240000</td>\n",
       "    </tr>\n",
       "    <tr>\n",
       "      <th>126226</th>\n",
       "      <td>0 days 00:00:00.360000</td>\n",
       "      <td>0 days 02:03:30.760000</td>\n",
       "      <td>-116.444063</td>\n",
       "      <td>-79.152946</td>\n",
       "      <td>-116.129629</td>\n",
       "      <td>-124.352170</td>\n",
       "      <td>-116.450647</td>\n",
       "      <td>-114.055396</td>\n",
       "      <td>27.777021</td>\n",
       "      <td>-44.439482</td>\n",
       "      <td>...</td>\n",
       "      <td>0.0</td>\n",
       "      <td>0.0</td>\n",
       "      <td>0.0</td>\n",
       "      <td>0.0</td>\n",
       "      <td>0.0</td>\n",
       "      <td>0.0</td>\n",
       "      <td>1.0</td>\n",
       "      <td>0.0</td>\n",
       "      <td>2868</td>\n",
       "      <td>0 days 00:00:02.260000</td>\n",
       "    </tr>\n",
       "    <tr>\n",
       "      <th>126227</th>\n",
       "      <td>0 days 00:00:00.380000</td>\n",
       "      <td>0 days 02:03:30.780000</td>\n",
       "      <td>-115.842393</td>\n",
       "      <td>-79.840834</td>\n",
       "      <td>-115.741469</td>\n",
       "      <td>-124.183166</td>\n",
       "      <td>-116.174928</td>\n",
       "      <td>-114.680376</td>\n",
       "      <td>13.272618</td>\n",
       "      <td>-17.231327</td>\n",
       "      <td>...</td>\n",
       "      <td>0.0</td>\n",
       "      <td>0.0</td>\n",
       "      <td>0.0</td>\n",
       "      <td>0.0</td>\n",
       "      <td>0.0</td>\n",
       "      <td>4.0</td>\n",
       "      <td>1.0</td>\n",
       "      <td>0.0</td>\n",
       "      <td>2868</td>\n",
       "      <td>0 days 00:00:02.280000</td>\n",
       "    </tr>\n",
       "    <tr>\n",
       "      <th>126228</th>\n",
       "      <td>0 days 00:00:00.400000</td>\n",
       "      <td>0 days 02:03:30.800000</td>\n",
       "      <td>-115.891162</td>\n",
       "      <td>-80.008894</td>\n",
       "      <td>-114.388179</td>\n",
       "      <td>-125.555668</td>\n",
       "      <td>-115.712684</td>\n",
       "      <td>-114.782808</td>\n",
       "      <td>29.807791</td>\n",
       "      <td>3.919408</td>\n",
       "      <td>...</td>\n",
       "      <td>0.0</td>\n",
       "      <td>1.0</td>\n",
       "      <td>0.0</td>\n",
       "      <td>1.0</td>\n",
       "      <td>0.0</td>\n",
       "      <td>2.0</td>\n",
       "      <td>2.0</td>\n",
       "      <td>0.0</td>\n",
       "      <td>2868</td>\n",
       "      <td>0 days 00:00:02.300000</td>\n",
       "    </tr>\n",
       "    <tr>\n",
       "      <th>126229</th>\n",
       "      <td>0 days 00:00:00.420000</td>\n",
       "      <td>0 days 02:03:30.820000</td>\n",
       "      <td>-115.240894</td>\n",
       "      <td>-79.764372</td>\n",
       "      <td>-113.939540</td>\n",
       "      <td>-126.111551</td>\n",
       "      <td>-115.127265</td>\n",
       "      <td>-114.605087</td>\n",
       "      <td>27.871405</td>\n",
       "      <td>12.945560</td>\n",
       "      <td>...</td>\n",
       "      <td>0.0</td>\n",
       "      <td>0.0</td>\n",
       "      <td>0.0</td>\n",
       "      <td>1.0</td>\n",
       "      <td>0.0</td>\n",
       "      <td>0.0</td>\n",
       "      <td>2.0</td>\n",
       "      <td>0.0</td>\n",
       "      <td>2868</td>\n",
       "      <td>0 days 00:00:02.320000</td>\n",
       "    </tr>\n",
       "  </tbody>\n",
       "</table>\n",
       "<p>103275 rows × 195 columns</p>\n",
       "</div>"
      ],
      "text/plain": [
       "                     align_time             clock_time  cursor_pos             \\\n",
       "                                                                 x          y   \n",
       "22955  -1 days +23:59:59.540000 0 days 00:07:40.660000   -1.463915  -7.492066   \n",
       "22956  -1 days +23:59:59.560000 0 days 00:07:40.680000   -1.409679  -7.503377   \n",
       "22957  -1 days +23:59:59.580000 0 days 00:07:40.700000   -1.459685  -7.517751   \n",
       "22958  -1 days +23:59:59.600000 0 days 00:07:40.720000   -1.621291  -7.682808   \n",
       "22959  -1 days +23:59:59.620000 0 days 00:07:40.740000   -1.477806  -7.588030   \n",
       "...                         ...                    ...         ...        ...   \n",
       "126225   0 days 00:00:00.340000 0 days 02:03:30.740000 -118.430515 -77.428451   \n",
       "126226   0 days 00:00:00.360000 0 days 02:03:30.760000 -116.444063 -79.152946   \n",
       "126227   0 days 00:00:00.380000 0 days 02:03:30.780000 -115.842393 -79.840834   \n",
       "126228   0 days 00:00:00.400000 0 days 02:03:30.800000 -115.891162 -80.008894   \n",
       "126229   0 days 00:00:00.420000 0 days 02:03:30.820000 -115.240894 -79.764372   \n",
       "\n",
       "           eye_pos                hand_pos               hand_vel             \\\n",
       "                 x           y           x           y          x          y   \n",
       "22955   -18.382911   -0.377749   -1.424627  -42.511253   3.055079  -0.315920   \n",
       "22956   -18.282735   -0.799903   -1.400660  -42.510206  -5.051846  -0.871977   \n",
       "22957   -17.032929   -0.337737   -1.534191  -42.588972  -2.760242  -5.309706   \n",
       "22958   -18.543133   -0.939321   -1.494304  -42.601084   2.597506   4.587658   \n",
       "22959   -18.233750   -0.126550   -1.505363  -42.536439  -2.003645  -1.305288   \n",
       "...            ...         ...         ...         ...        ...        ...   \n",
       "126225 -115.449735 -124.429779 -117.619761 -112.831567  83.182184 -82.032653   \n",
       "126226 -116.129629 -124.352170 -116.450647 -114.055396  27.777021 -44.439482   \n",
       "126227 -115.741469 -124.183166 -116.174928 -114.680376  13.272618 -17.231327   \n",
       "126228 -114.388179 -125.555668 -115.712684 -114.782808  29.807791   3.919408   \n",
       "126229 -113.939540 -126.111551 -115.127265 -114.605087  27.871405  12.945560   \n",
       "\n",
       "        ... spikes                                    trial_id  \\\n",
       "        ...   2861 2862 2871 2881 2911 2931 2951 2961            \n",
       "22955   ...    0.0  0.0  0.0  0.0  0.0  0.0  0.0  0.0      574   \n",
       "22956   ...    0.0  0.0  0.0  0.0  0.0  0.0  0.0  0.0      574   \n",
       "22957   ...    0.0  0.0  0.0  0.0  0.0  1.0  1.0  2.0      574   \n",
       "22958   ...    0.0  0.0  0.0  0.0  0.0  1.0  1.0  0.0      574   \n",
       "22959   ...    0.0  1.0  0.0  1.0  0.0  0.0  0.0  1.0      574   \n",
       "...     ...    ...  ...  ...  ...  ...  ...  ...  ...      ...   \n",
       "126225  ...    0.0  0.0  0.0  0.0  0.0  0.0  0.0  0.0     2868   \n",
       "126226  ...    0.0  0.0  0.0  0.0  0.0  0.0  1.0  0.0     2868   \n",
       "126227  ...    0.0  0.0  0.0  0.0  0.0  4.0  1.0  0.0     2868   \n",
       "126228  ...    0.0  1.0  0.0  1.0  0.0  2.0  2.0  0.0     2868   \n",
       "126229  ...    0.0  0.0  0.0  1.0  0.0  0.0  2.0  0.0     2868   \n",
       "\n",
       "                   trial_time  \n",
       "                               \n",
       "22955  0 days 00:00:01.460000  \n",
       "22956  0 days 00:00:01.480000  \n",
       "22957  0 days 00:00:01.500000  \n",
       "22958  0 days 00:00:01.520000  \n",
       "22959  0 days 00:00:01.540000  \n",
       "...                       ...  \n",
       "126225 0 days 00:00:02.240000  \n",
       "126226 0 days 00:00:02.260000  \n",
       "126227 0 days 00:00:02.280000  \n",
       "126228 0 days 00:00:02.300000  \n",
       "126229 0 days 00:00:02.320000  \n",
       "\n",
       "[103275 rows x 195 columns]"
      ]
     },
     "execution_count": 35,
     "metadata": {},
     "output_type": "execute_result"
    }
   ],
   "source": [
    "trial_data"
   ]
  },
  {
   "cell_type": "code",
   "execution_count": 24,
   "id": "218e4ad9-bb1d-4b6a-8847-a4bbce5fba6d",
   "metadata": {
    "tags": []
   },
   "outputs": [
    {
     "data": {
      "text/plain": [
       "45910      574\n",
       "45911      574\n",
       "45912      574\n",
       "45913      574\n",
       "45914      574\n",
       "          ... \n",
       "252455    2868\n",
       "252456    2868\n",
       "252457    2868\n",
       "252458    2868\n",
       "252459    2868\n",
       "Name: trial_id, Length: 206550, dtype: int64"
      ]
     },
     "execution_count": 24,
     "metadata": {},
     "output_type": "execute_result"
    }
   ],
   "source": [
    "trial_data['trial_id']"
   ]
  },
  {
   "cell_type": "code",
   "execution_count": 51,
   "id": "947b2d87-c7d1-4239-9c5f-fd9a9277a067",
   "metadata": {
    "tags": []
   },
   "outputs": [
    {
     "data": {
      "text/plain": [
       "torch.Size([90, 137])"
      ]
     },
     "execution_count": 51,
     "metadata": {},
     "output_type": "execute_result"
    }
   ],
   "source": [
    "torch.tensor(trial.spikes.values).shape"
   ]
  },
  {
   "cell_type": "code",
   "execution_count": 57,
   "id": "49a2e0e0-6eb2-47ff-a952-e15a5520d893",
   "metadata": {
    "tags": []
   },
   "outputs": [
    {
     "data": {
      "text/plain": [
       "(90, 2)"
      ]
     },
     "execution_count": 57,
     "metadata": {},
     "output_type": "execute_result"
    }
   ],
   "source": [
    "trial.hand_vel.values.shape"
   ]
  },
  {
   "cell_type": "code",
   "execution_count": 59,
   "id": "73b9fb15-966c-47c6-b3cb-6ad84359f977",
   "metadata": {
    "tags": []
   },
   "outputs": [
    {
     "data": {
      "text/plain": [
       "torch.Size([90, 182])"
      ]
     },
     "execution_count": 59,
     "metadata": {},
     "output_type": "execute_result"
    }
   ],
   "source": [
    "y_t.shape"
   ]
  },
  {
   "cell_type": "code",
   "execution_count": 63,
   "id": "6b8ff29c-5933-4cde-8867-77b1192dd31f",
   "metadata": {
    "tags": []
   },
   "outputs": [
    {
     "data": {
      "text/plain": [
       "torch.Size([1, 90, 182])"
      ]
     },
     "execution_count": 63,
     "metadata": {},
     "output_type": "execute_result"
    }
   ],
   "source": [
    "y_t.reshape(1, trial_length, n_neurons).shape"
   ]
  },
  {
   "cell_type": "code",
   "execution_count": null,
   "id": "2b6898a8-7c37-4e54-8389-75fe16bb9669",
   "metadata": {},
   "outputs": [],
   "source": []
  },
  {
   "cell_type": "code",
   "execution_count": null,
   "id": "7213703f-db20-40de-ab4a-040a8f7caf8d",
   "metadata": {},
   "outputs": [],
   "source": []
  },
  {
   "cell_type": "code",
   "execution_count": 65,
   "id": "48e5c3c1-de87-438f-8e10-1bad43ca1849",
   "metadata": {
    "tags": []
   },
   "outputs": [
    {
     "data": {
      "text/plain": [
       "'\\n\\ntask_id = torch.concat(task_id, dim=0)\\n\\nsubset_ex = 10\\nsubset_ex_loc = torch.where(task_id == subset_ex)[0]\\n\\ny_subset = y[subset_ex_loc]\\ny_psth = y_subset.mean(dim=0)\\n\\nts = torch.stack(ts, dim=0)\\ntp = torch.stack(tp, dim=0)\\n'"
      ]
     },
     "execution_count": 65,
     "metadata": {},
     "output_type": "execute_result"
    }
   ],
   "source": [
    "y = []\n",
    "target = []\n",
    "#tp = []\n",
    "#ts = []\n",
    "#task_id = []\n",
    "\n",
    "count = 0\n",
    "\n",
    "for trial_id, trial in trial_data.groupby('trial_id'):\n",
    "    trial_id_trial_info = trial_info[trial_info['trial_id'] == trial_id]\n",
    "    #is_outlier_t = trial_id_trial_info['is_outlier'].iloc[0]\n",
    "    #tp_t = torch.tensor(trial_id_trial_info['tp'].iloc[0])\n",
    "    #ts_t = torch.tensor(trial_id_trial_info['ts'].iloc[0])\n",
    "    #is_short_t = trial_id_trial_info['is_short'].iloc[0]\n",
    "    #is_eye_t = trial_id_trial_info['is_eye'].iloc[0]\n",
    "    \n",
    "    \"\"\"\n",
    "    if is_outlier_t or tp_t < 0:\n",
    "        continue\n",
    "\n",
    "    if is_short_t:\n",
    "        task_str_1 = 'S'\n",
    "\n",
    "        if ts_t == 480:\n",
    "            task_str_3 = '1'\n",
    "        elif ts_t == 560:\n",
    "            task_str_3 = '2'\n",
    "        elif ts_t == 640:\n",
    "            task_str_3 = '3'\n",
    "        elif ts_t == 720:\n",
    "            task_str_3 = '4'\n",
    "        elif ts_t == 800:\n",
    "            task_str_3 = '5'\n",
    "    else:\n",
    "        task_str_1 = 'L'\n",
    "\n",
    "        if ts_t == 800:\n",
    "            task_str_3 = '1'\n",
    "        elif ts_t == 900:\n",
    "            task_str_3 = '2'\n",
    "        elif ts_t == 1000:\n",
    "            task_str_3 = '3'\n",
    "        elif ts_t == 1100:\n",
    "            task_str_3 = '4'\n",
    "        elif ts_t == 1200:\n",
    "            task_str_3 = '5'\n",
    "\n",
    "    if is_eye_t:\n",
    "        task_str_2 = 'E'\n",
    "    else:\n",
    "        task_str_2 = 'H'\n",
    "    \"\"\"\n",
    "\n",
    "    y_heldin_t = torch.tensor(trial.spikes.values)\n",
    "    y_heldout_t = torch.tensor(trial.heldout_spikes.values)\n",
    "    y_t = torch.concat([y_heldin_t, y_heldout_t], dim=-1)\n",
    "    y.append(y_t.reshape(1, trial_length, n_neurons))\n",
    "\n",
    "    target.append(torch.tensor(trial.hand_vel.values).reshape(1, trial_length, 2))\n",
    "    \n",
    "    \"\"\"\n",
    "    task_id_key = (task_str_1, task_str_2, task_str_3)\n",
    "    task_id_int = verbose_to_int_map[task_id_key]\n",
    "    task_id.append(torch.tensor(task_id_int).unsqueeze(-1))\n",
    "\n",
    "    tp.append(torch.tensor(tp_t).unsqueeze(-1))\n",
    "    ts.append(torch.tensor(ts_t).unsqueeze(-1))\n",
    "\n",
    "    if is_outlier_t:\n",
    "        count += 1\n",
    "    \"\"\"\n",
    "    \n",
    "y = torch.concat(y, dim=0)\n",
    "target = torch.concat(target, dim=0)\n",
    "\n",
    "\"\"\"\n",
    "\n",
    "task_id = torch.concat(task_id, dim=0)\n",
    "\n",
    "subset_ex = 10\n",
    "subset_ex_loc = torch.where(task_id == subset_ex)[0]\n",
    "\n",
    "y_subset = y[subset_ex_loc]\n",
    "y_psth = y_subset.mean(dim=0)\n",
    "\n",
    "ts = torch.stack(ts, dim=0)\n",
    "tp = torch.stack(tp, dim=0)\n",
    "\"\"\""
   ]
  },
  {
   "cell_type": "code",
   "execution_count": 67,
   "id": "a0c731ad-3303-450b-8841-2379511301ac",
   "metadata": {},
   "outputs": [
    {
     "data": {
      "text/plain": [
       "torch.Size([2295, 90, 182])"
      ]
     },
     "execution_count": 67,
     "metadata": {},
     "output_type": "execute_result"
    }
   ],
   "source": [
    "y.shape"
   ]
  },
  {
   "cell_type": "code",
   "execution_count": 69,
   "id": "215327fc-fd7f-49e9-9368-3453af9d53f5",
   "metadata": {
    "tags": []
   },
   "outputs": [
    {
     "data": {
      "text/plain": [
       "torch.Size([2295, 90, 2])"
      ]
     },
     "execution_count": 69,
     "metadata": {},
     "output_type": "execute_result"
    }
   ],
   "source": [
    "target.shape"
   ]
  },
  {
   "cell_type": "code",
   "execution_count": 80,
   "id": "fb2a8207-b016-42bc-b0c3-996dac70e020",
   "metadata": {
    "tags": []
   },
   "outputs": [
    {
     "data": {
      "text/plain": [
       "torch.Size([1721, 90, 182])"
      ]
     },
     "execution_count": 80,
     "metadata": {},
     "output_type": "execute_result"
    }
   ],
   "source": [
    "n_valid_trials = 574\n",
    "y[:-n_valid_trials].shape"
   ]
  },
  {
   "cell_type": "code",
   "execution_count": 92,
   "id": "55d512d6-7754-4676-9d75-0fdf8d0150a5",
   "metadata": {
    "tags": []
   },
   "outputs": [
    {
     "data": {
      "text/plain": [
       "torch.Size([574, 90, 182])"
      ]
     },
     "execution_count": 92,
     "metadata": {},
     "output_type": "execute_result"
    }
   ],
   "source": [
    "y[-n_valid_trials:].shape"
   ]
  },
  {
   "cell_type": "code",
   "execution_count": 115,
   "id": "e0d65a59-88f8-46d8-9cc4-d18a5d52721b",
   "metadata": {
    "tags": []
   },
   "outputs": [
    {
     "data": {
      "text/plain": [
       "torch.Size([287, 90, 2])"
      ]
     },
     "execution_count": 115,
     "metadata": {},
     "output_type": "execute_result"
    }
   ],
   "source": [
    "target[-n_valid_trials:][:n_valid_trials//2].shape"
   ]
  },
  {
   "cell_type": "code",
   "execution_count": 117,
   "id": "43df1338-ef43-4af8-a06f-d80fcce09c52",
   "metadata": {
    "tags": []
   },
   "outputs": [
    {
     "data": {
      "text/plain": [
       "torch.Size([287, 90, 2])"
      ]
     },
     "execution_count": 117,
     "metadata": {},
     "output_type": "execute_result"
    }
   ],
   "source": [
    "target[-n_valid_trials:][n_valid_trials//2:].shape"
   ]
  },
  {
   "cell_type": "code",
   "execution_count": 113,
   "id": "ad592ad4-93f2-4c03-930a-bea9f066ce9d",
   "metadata": {
    "tags": []
   },
   "outputs": [
    {
     "data": {
      "text/plain": [
       "torch.Size([1721, 90, 2])"
      ]
     },
     "execution_count": 113,
     "metadata": {},
     "output_type": "execute_result"
    }
   ],
   "source": [
    "target[:-n_valid_trials].shape"
   ]
  },
  {
   "cell_type": "code",
   "execution_count": 123,
   "id": "85c92c28-ae6a-4041-b0dc-b172fe588643",
   "metadata": {
    "tags": []
   },
   "outputs": [
    {
     "data": {
      "text/plain": [
       "tensor([[[ True,  True,  True,  ...,  True,  True,  True],\n",
       "         [ True,  True,  True,  ...,  True, False,  True],\n",
       "         [ True,  True,  True,  ...,  True,  True,  True],\n",
       "         ...,\n",
       "         [ True,  True,  True,  ...,  True,  True,  True],\n",
       "         [ True,  True,  True,  ...,  True,  True,  True],\n",
       "         [ True,  True,  True,  ...,  True,  True,  True]],\n",
       "\n",
       "        [[ True,  True,  True,  ...,  True,  True,  True],\n",
       "         [ True,  True,  True,  ...,  True,  True,  True],\n",
       "         [ True,  True,  True,  ...,  True,  True,  True],\n",
       "         ...,\n",
       "         [ True,  True,  True,  ...,  True,  True,  True],\n",
       "         [ True,  True,  True,  ...,  True, False,  True],\n",
       "         [ True,  True,  True,  ...,  True,  True,  True]],\n",
       "\n",
       "        [[ True,  True,  True,  ...,  True, False,  True],\n",
       "         [ True,  True,  True,  ...,  True,  True,  True],\n",
       "         [ True,  True,  True,  ...,  True,  True,  True],\n",
       "         ...,\n",
       "         [ True,  True,  True,  ...,  True,  True,  True],\n",
       "         [ True,  True,  True,  ...,  True, False,  True],\n",
       "         [ True,  True,  True,  ...,  True,  True,  True]],\n",
       "\n",
       "        ...,\n",
       "\n",
       "        [[ True,  True,  True,  ...,  True,  True,  True],\n",
       "         [ True,  True,  True,  ...,  True,  True,  True],\n",
       "         [ True,  True,  True,  ...,  True,  True,  True],\n",
       "         ...,\n",
       "         [ True,  True,  True,  ...,  True,  True,  True],\n",
       "         [ True,  True,  True,  ...,  True,  True,  True],\n",
       "         [ True,  True, False,  ...,  True,  True,  True]],\n",
       "\n",
       "        [[ True,  True,  True,  ...,  True,  True, False],\n",
       "         [ True,  True,  True,  ...,  True,  True,  True],\n",
       "         [ True,  True,  True,  ...,  True,  True,  True],\n",
       "         ...,\n",
       "         [ True,  True,  True,  ...,  True,  True,  True],\n",
       "         [ True,  True,  True,  ...,  True,  True,  True],\n",
       "         [ True,  True,  True,  ...,  True,  True,  True]],\n",
       "\n",
       "        [[ True,  True,  True,  ...,  True,  True,  True],\n",
       "         [ True,  True,  True,  ...,  True,  True,  True],\n",
       "         [False,  True,  True,  ...,  True, False,  True],\n",
       "         ...,\n",
       "         [ True,  True,  True,  ...,  True,  True,  True],\n",
       "         [ True,  True,  True,  ...,  True,  True,  True],\n",
       "         [ True,  True,  True,  ...,  True,  True,  True]]])"
      ]
     },
     "execution_count": 123,
     "metadata": {},
     "output_type": "execute_result"
    }
   ],
   "source": [
    "y[-n_valid_trials:-n_valid_trials // 2] == y[-n_valid_trials // 2:]"
   ]
  },
  {
   "cell_type": "code",
   "execution_count": null,
   "id": "77d8d8ce-d3a6-4ef5-8d25-4b82dd210c5a",
   "metadata": {},
   "outputs": [],
   "source": [
    "train_data, valid_data, test_data = {}, {}, {}\n",
    "seq_len = data_dict['train_encod_data'].shape[1]\n",
    "n_valid_trials = 574\n",
    "\n",
    "train_data['y_obs'] = y[:-n_valid_trials]\n",
    "train_data['velocity'] = target[:-n_valid_trials]\n",
    "train_data['n_neurons_enc'] = y.shape[-1]\n",
    "train_data['n_neurons_obs'] = y.shape[-1]\n",
    "train_data['n_time_bins_enc'] = seq_len\n",
    "\n",
    "valid_data['y_obs'] = y[-n_valid_trials:-n_valid_trials // 2]\n",
    "valid_data['velocity'] = target[-n_valid_trials:-n_valid_trials // 2]\n",
    "valid_data['n_neurons_enc'] = y.shape[-1]\n",
    "train_data['n_neurons_obs'] = y.shape[-1]\n",
    "valid_data['n_time_bins_enc'] = seq_len\n",
    "\n",
    "test_data['y_obs'] = y[-n_valid_trials // 2:]\n",
    "test_data['velocity'] = target[-n_valid_trials // 2:]\n",
    "test_data['n_neurons_enc'] = y.shape[-1]\n",
    "test_data['n_neurons_obs'] = y.shape[-1]\n",
    "test_data['n_time_bins_enc'] = seq_len"
   ]
  },
  {
   "cell_type": "code",
   "execution_count": null,
   "id": "d6ed4184-365b-493e-9924-2757efaaabe3",
   "metadata": {},
   "outputs": [],
   "source": [
    "torch.save(train_data, save_root_path + f'data_train_{binsize}ms.pt')\n",
    "torch.save(valid_data, save_root_path + f'data_valid_{binsize}ms.pt')\n",
    "torch.save(test_data, save_root_path + f'data_test_{binsize}ms.pt')"
   ]
  },
  {
   "cell_type": "code",
   "execution_count": 95,
   "id": "2648627b-0e8d-4647-8575-1d43a9be0cf1",
   "metadata": {
    "tags": []
   },
   "outputs": [
    {
     "ename": "KeyError",
     "evalue": "'velocity'",
     "output_type": "error",
     "traceback": [
      "\u001b[0;31m---------------------------------------------------------------------------\u001b[0m",
      "\u001b[0;31mKeyError\u001b[0m                                  Traceback (most recent call last)",
      "Cell \u001b[0;32mIn[95], line 12\u001b[0m\n\u001b[1;32m      9\u001b[0m y_valid_obs \u001b[38;5;241m=\u001b[39m val_data[\u001b[38;5;124m'\u001b[39m\u001b[38;5;124my_obs\u001b[39m\u001b[38;5;124m'\u001b[39m]\u001b[38;5;241m.\u001b[39mtype(torch\u001b[38;5;241m.\u001b[39mfloat32)\u001b[38;5;241m.\u001b[39mto(cfg\u001b[38;5;241m.\u001b[39mdata_device)\n\u001b[1;32m     10\u001b[0m y_test_obs \u001b[38;5;241m=\u001b[39m test_data[\u001b[38;5;124m'\u001b[39m\u001b[38;5;124my_obs\u001b[39m\u001b[38;5;124m'\u001b[39m]\u001b[38;5;241m.\u001b[39mtype(torch\u001b[38;5;241m.\u001b[39mfloat32)\u001b[38;5;241m.\u001b[39mto(cfg\u001b[38;5;241m.\u001b[39mdata_device)\n\u001b[0;32m---> 12\u001b[0m vel_train \u001b[38;5;241m=\u001b[39m \u001b[43mtrain_data\u001b[49m\u001b[43m[\u001b[49m\u001b[38;5;124;43m'\u001b[39;49m\u001b[38;5;124;43mvelocity\u001b[39;49m\u001b[38;5;124;43m'\u001b[39;49m\u001b[43m]\u001b[49m\u001b[38;5;241m.\u001b[39mtype(torch\u001b[38;5;241m.\u001b[39mfloat32)\u001b[38;5;241m.\u001b[39mto(cfg\u001b[38;5;241m.\u001b[39mdata_device)\n\u001b[1;32m     13\u001b[0m vel_valid \u001b[38;5;241m=\u001b[39m val_data[\u001b[38;5;124m'\u001b[39m\u001b[38;5;124mvelocity\u001b[39m\u001b[38;5;124m'\u001b[39m]\u001b[38;5;241m.\u001b[39mtype(torch\u001b[38;5;241m.\u001b[39mfloat32)\u001b[38;5;241m.\u001b[39mto(cfg\u001b[38;5;241m.\u001b[39mdata_device)\n\u001b[1;32m     14\u001b[0m vel_test \u001b[38;5;241m=\u001b[39m test_data[\u001b[38;5;124m'\u001b[39m\u001b[38;5;124mvelocity\u001b[39m\u001b[38;5;124m'\u001b[39m]\u001b[38;5;241m.\u001b[39mtype(torch\u001b[38;5;241m.\u001b[39mfloat32)\u001b[38;5;241m.\u001b[39mto(cfg\u001b[38;5;241m.\u001b[39mdata_device)\n",
      "\u001b[0;31mKeyError\u001b[0m: 'velocity'"
     ]
    }
   ],
   "source": [
    "\"\"\" Loading the data\"\"\"\n",
    "\n",
    "data_path = 'data/data_{split}_{bin_sz_ms}ms.pt'\n",
    "train_data = torch.load(data_path.format(split='train', bin_sz_ms=cfg.bin_sz_ms))\n",
    "val_data = torch.load(data_path.format(split='valid', bin_sz_ms=cfg.bin_sz_ms))\n",
    "test_data = torch.load(data_path.format(split='test', bin_sz_ms=cfg.bin_sz_ms))\n",
    "\n",
    "y_train_obs = train_data['y_obs'].type(torch.float32).to(cfg.data_device)\n",
    "y_valid_obs = val_data['y_obs'].type(torch.float32).to(cfg.data_device)\n",
    "y_test_obs = test_data['y_obs'].type(torch.float32).to(cfg.data_device)\n",
    "\n",
    "vel_train = train_data['velocity'].type(torch.float32).to(cfg.data_device)\n",
    "vel_valid = val_data['velocity'].type(torch.float32).to(cfg.data_device)\n",
    "vel_test = test_data['velocity'].type(torch.float32).to(cfg.data_device)\n",
    "\n",
    "y_train_dataset = torch.utils.data.TensorDataset(y_train_obs, vel_train)\n",
    "y_val_dataset = torch.utils.data.TensorDataset(y_valid_obs, vel_valid)\n",
    "y_test_dataset = torch.utils.data.TensorDataset(y_test_obs, vel_test)\n",
    "\n",
    "train_dataloader = torch.utils.data.DataLoader(y_train_dataset, batch_size=cfg.batch_sz, shuffle=True)\n",
    "valid_dataloader = torch.utils.data.DataLoader(y_val_dataset, batch_size=y_valid_obs.shape[0], shuffle=False)\n",
    "test_dataloader = torch.utils.data.DataLoader(y_test_dataset, batch_size=y_valid_obs.shape[0], shuffle=False)\n",
    "\n",
    "# Data dimensions\n",
    "n_train_trials, n_time_bins, n_neurons_obs = y_train_obs.shape\n",
    "n_valid_trials = y_valid_obs.shape[0]\n",
    "n_test_trials = y_test_obs.shape[0]\n",
    "n_time_bins_enc = train_data['n_time_bins_enc']\n",
    "\n",
    "n_bins_bhv = 10  # at t=n_bins_bhv start forecast\n",
    "stim_onset = 12  # stimulus onset\n",
    "\n",
    "trial_list=[1, 287//4, 28//4 + 287//2, 286]\n",
    "\n",
    "print(\"# training trials: {0}\".format(n_train_trials))\n",
    "print(\"# validation trials: {0}\".format(n_valid_trials))\n",
    "print(\"# testing trials: {0}\".format(n_test_trials))\n",
    "print(\"# neurons: {0}\".format(n_neurons_obs))\n",
    "print(\"# time bins: {0}\".format(n_time_bins))\n",
    "print(\"# time bins used for forcasting: {0}\".format(n_bins_bhv))\n",
    "print(\"# predicted time bins: {0}\".format(n_time_bins_enc))"
   ]
  },
  {
   "cell_type": "code",
   "execution_count": 97,
   "id": "d13ed531-efdc-489e-a058-ada5212c7887",
   "metadata": {
    "tags": []
   },
   "outputs": [
    {
     "data": {
      "text/plain": [
       "dict_keys(['y_obs', 'task_id', 'ts', 'tp', 'n_neurons_enc', 'n_neurons_obs', 'n_time_bins_enc'])"
      ]
     },
     "execution_count": 97,
     "metadata": {},
     "output_type": "execute_result"
    }
   ],
   "source": [
    "train_data.keys()"
   ]
  },
  {
   "cell_type": "code",
   "execution_count": 33,
   "id": "3826cc3f-0c13-40d2-89ba-dd1c8542ad43",
   "metadata": {},
   "outputs": [
    {
     "data": {
      "text/plain": [
       "10"
      ]
     },
     "execution_count": 33,
     "metadata": {},
     "output_type": "execute_result"
    }
   ],
   "source": [
    "dataset.bin_width"
   ]
  },
  {
   "cell_type": "code",
   "execution_count": 35,
   "id": "f68f67dd-5c99-4370-9edf-6b7f84448f47",
   "metadata": {
    "tags": []
   },
   "outputs": [
    {
     "ename": "NameError",
     "evalue": "name 'data_dict' is not defined",
     "output_type": "error",
     "traceback": [
      "\u001b[0;31m---------------------------------------------------------------------------\u001b[0m",
      "\u001b[0;31mNameError\u001b[0m                                 Traceback (most recent call last)",
      "Cell \u001b[0;32mIn[35], line 1\u001b[0m\n\u001b[0;32m----> 1\u001b[0m \u001b[43mdata_dict\u001b[49m[\u001b[38;5;124m'\u001b[39m\u001b[38;5;124mtrain_behavior\u001b[39m\u001b[38;5;124m'\u001b[39m]\n",
      "\u001b[0;31mNameError\u001b[0m: name 'data_dict' is not defined"
     ]
    }
   ],
   "source": [
    "data_dict['train_behavior']"
   ]
  },
  {
   "cell_type": "code",
   "execution_count": null,
   "id": "5e05ce20-9c75-45c8-a2b4-10f68eb64d3f",
   "metadata": {},
   "outputs": [],
   "source": []
  }
 ],
 "metadata": {
  "kernelspec": {
   "display_name": "xfads",
   "language": "python",
   "name": "xfads"
  },
  "language_info": {
   "codemirror_mode": {
    "name": "ipython",
    "version": 3
   },
   "file_extension": ".py",
   "mimetype": "text/x-python",
   "name": "python",
   "nbconvert_exporter": "python",
   "pygments_lexer": "ipython3",
   "version": "3.9.19"
  }
 },
 "nbformat": 4,
 "nbformat_minor": 5
}
