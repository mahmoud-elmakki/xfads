{
 "cells": [
  {
   "cell_type": "code",
   "execution_count": 1,
   "id": "4b81d342-7a0e-4c58-a0cf-e582565fe507",
   "metadata": {
    "tags": []
   },
   "outputs": [],
   "source": [
    "import numpy as np\n",
    "import pandas as pd\n",
    "import seaborn as sns\n",
    "import math\n",
    "import yaml\n",
    "import hydra\n",
    "\n",
    "import matplotlib.pyplot as plt\n",
    "from matplotlib import cm\n",
    "\n",
    "import torch\n",
    "import pytorch_lightning as lightning\n",
    "\n",
    "from itertools import product\n",
    "from nlb_tools.nwb_interface import NWBDataset\n",
    "\n",
    "from hydra import compose, initialize\n",
    "from xfads import plot_utils\n",
    "from xfads.smoothers.lightning_trainers import LightningMonkeyReaching\n",
    "from xfads.ssm_modules.prebuilt_models import create_xfads_poisson_log_link"
   ]
  },
  {
   "cell_type": "code",
   "execution_count": 2,
   "id": "65a8c816-752b-45c3-89a5-522c41a56a0c",
   "metadata": {
    "tags": []
   },
   "outputs": [],
   "source": [
    "torch.cuda.empty_cache()"
   ]
  },
  {
   "cell_type": "code",
   "execution_count": 3,
   "id": "23a18ad6-e637-4b7e-8253-c18aa54c44b4",
   "metadata": {
    "tags": []
   },
   "outputs": [],
   "source": [
    "hydra.core.global_hydra.GlobalHydra.instance().clear()\n",
    "initialize(version_base=None, config_path=\"\", job_name=\"monkey_reaching\")\n",
    "\n",
    "cfg = compose(config_name=\"config\")"
   ]
  },
  {
   "cell_type": "code",
   "execution_count": 4,
   "id": "98fa84ed-cdf7-44b5-a6be-987b00721900",
   "metadata": {
    "tags": []
   },
   "outputs": [
    {
     "name": "stderr",
     "output_type": "stream",
     "text": [
      "Seed set to 1236\n"
     ]
    }
   ],
   "source": [
    "lightning.seed_everything(cfg.seed, workers=True)\n",
    "torch.set_default_dtype(torch.float32)"
   ]
  },
  {
   "cell_type": "code",
   "execution_count": 5,
   "id": "a5ddee10-88f3-482e-92af-569985c4440e",
   "metadata": {
    "tags": []
   },
   "outputs": [
    {
     "name": "stderr",
     "output_type": "stream",
     "text": [
      "/opt/anaconda3/envs/xfads/lib/python3.9/site-packages/hdmf/utils.py:668: UserWarning: Ignoring cached namespace 'hdmf-common' version 1.5.0 because version 1.8.0 is already loaded.\n",
      "  return func(args[0], **pargs)\n",
      "/opt/anaconda3/envs/xfads/lib/python3.9/site-packages/hdmf/utils.py:668: UserWarning: Ignoring cached namespace 'core' version 2.4.0 because version 2.7.0 is already loaded.\n",
      "  return func(args[0], **pargs)\n",
      "/opt/anaconda3/envs/xfads/lib/python3.9/site-packages/hdmf/utils.py:668: UserWarning: Ignoring cached namespace 'hdmf-experimental' version 0.1.0 because version 0.5.0 is already loaded.\n",
      "  return func(args[0], **pargs)\n"
     ]
    }
   ],
   "source": [
    "\"\"\"Downloading the data\"\"\"\n",
    "\n",
    "datapath = 'data/000128/sub-Jenkins/'\n",
    "dataset = NWBDataset(datapath)\n",
    "save_root_path = 'data/'"
   ]
  },
  {
   "cell_type": "code",
   "execution_count": 22,
   "id": "9fe123c0-84a0-49c9-b887-3fe16a41d330",
   "metadata": {
    "tags": []
   },
   "outputs": [
    {
     "name": "stderr",
     "output_type": "stream",
     "text": [
      "Dataset already at 10 ms resolution, skipping resampling...\n",
      "Shortened 573 trials to prevent overlap.\n",
      "NaNs found in `self.data`. Dropping 13.16% of points to remove NaNs from `trial_data`.\n"
     ]
    }
   ],
   "source": [
    "# Extract neural data and lagged hand velocity\n",
    "binsize = 10 # ms\n",
    "n_neurons = 182\n",
    "dataset.resample(binsize)\n",
    "\n",
    "# We want total trial length of 900ms ...\n",
    "start = -450\n",
    "end = 450\n",
    "#... which is 90 time bins\n",
    "trial_length = (end - start) // binsize\n",
    "\n",
    "# Extract neural data\n",
    "trial_info = dataset.trial_info  # .dropna()\n",
    "# Trials aligned around the movement_onset time bin\n",
    "trial_data = dataset.make_trial_data(\n",
    "    align_field='move_onset_time', align_range=(start, end), ignored_trials=None)\n",
    "n_trials = trial_data.shape[0] // trial_length"
   ]
  },
  {
   "cell_type": "code",
   "execution_count": 23,
   "id": "316b53fd-b354-498c-8bc8-8d99653f4eea",
   "metadata": {
    "tags": []
   },
   "outputs": [
    {
     "ename": "RuntimeError",
     "evalue": "shape '[1, 132, 182]' is invalid for input of size 2002",
     "output_type": "error",
     "traceback": [
      "\u001b[0;31m---------------------------------------------------------------------------\u001b[0m",
      "\u001b[0;31mRuntimeError\u001b[0m                              Traceback (most recent call last)",
      "Cell \u001b[0;32mIn[23], line 10\u001b[0m\n\u001b[1;32m      8\u001b[0m     y_heldout_t \u001b[38;5;241m=\u001b[39m torch\u001b[38;5;241m.\u001b[39mtensor(trial\u001b[38;5;241m.\u001b[39mheldout_spikes\u001b[38;5;241m.\u001b[39mvalues)\n\u001b[1;32m      9\u001b[0m     y_t \u001b[38;5;241m=\u001b[39m torch\u001b[38;5;241m.\u001b[39mconcat([y_heldin_t, y_heldout_t], dim\u001b[38;5;241m=\u001b[39m\u001b[38;5;241m-\u001b[39m\u001b[38;5;241m1\u001b[39m)\n\u001b[0;32m---> 10\u001b[0m     y\u001b[38;5;241m.\u001b[39mappend(\u001b[43my_t\u001b[49m\u001b[38;5;241;43m.\u001b[39;49m\u001b[43mreshape\u001b[49m\u001b[43m(\u001b[49m\u001b[38;5;241;43m1\u001b[39;49m\u001b[43m,\u001b[49m\u001b[43m \u001b[49m\u001b[43mtrial_length\u001b[49m\u001b[43m,\u001b[49m\u001b[43m \u001b[49m\u001b[43mn_neurons\u001b[49m\u001b[43m)\u001b[49m)\n\u001b[1;32m     12\u001b[0m     target\u001b[38;5;241m.\u001b[39mappend(torch\u001b[38;5;241m.\u001b[39mtensor(trial\u001b[38;5;241m.\u001b[39mhand_vel\u001b[38;5;241m.\u001b[39mvalues)\u001b[38;5;241m.\u001b[39mreshape(\u001b[38;5;241m1\u001b[39m, trial_length, \u001b[38;5;241m2\u001b[39m))\n\u001b[1;32m     14\u001b[0m y \u001b[38;5;241m=\u001b[39m torch\u001b[38;5;241m.\u001b[39mconcat(y, dim\u001b[38;5;241m=\u001b[39m\u001b[38;5;241m0\u001b[39m)\n",
      "\u001b[0;31mRuntimeError\u001b[0m: shape '[1, 132, 182]' is invalid for input of size 2002"
     ]
    }
   ],
   "source": [
    "y = []\n",
    "target = []\n",
    "\n",
    "for trial_id, trial in trial_data.groupby('trial_id'):\n",
    "    trial_id_trial_info = trial_info[trial_info['trial_id'] == trial_id]\n",
    "\n",
    "    y_heldin_t = torch.tensor(trial.spikes.values)\n",
    "    y_heldout_t = torch.tensor(trial.heldout_spikes.values)\n",
    "    y_t = torch.concat([y_heldin_t, y_heldout_t], dim=-1)\n",
    "    y.append(y_t.reshape(1, trial_length, n_neurons))\n",
    "\n",
    "    target.append(torch.tensor(trial.hand_vel.values).reshape(1, trial_length, 2))\n",
    "    \n",
    "y = torch.concat(y, dim=0)\n",
    "target = torch.concat(target, dim=0)"
   ]
  },
  {
   "cell_type": "code",
   "execution_count": 25,
   "id": "c32209a3-db0a-4ac9-9f3a-d13d48463d8f",
   "metadata": {
    "tags": []
   },
   "outputs": [
    {
     "data": {
      "text/plain": [
       "torch.Size([11, 182])"
      ]
     },
     "execution_count": 25,
     "metadata": {},
     "output_type": "execute_result"
    }
   ],
   "source": [
    "y_t.shape"
   ]
  },
  {
   "cell_type": "code",
   "execution_count": 9,
   "id": "c9c5e315-acae-4c09-87d5-a60bdf4c5787",
   "metadata": {
    "tags": []
   },
   "outputs": [
    {
     "data": {
      "text/plain": [
       "90"
      ]
     },
     "execution_count": 9,
     "metadata": {},
     "output_type": "execute_result"
    }
   ],
   "source": [
    "trial_length"
   ]
  },
  {
   "cell_type": "code",
   "execution_count": 11,
   "id": "8143883f-6c9b-4b9b-96c2-388f3e7a8175",
   "metadata": {
    "tags": []
   },
   "outputs": [
    {
     "data": {
      "text/plain": [
       "torch.Size([2295, 90, 182])"
      ]
     },
     "execution_count": 11,
     "metadata": {},
     "output_type": "execute_result"
    }
   ],
   "source": [
    "y.shape"
   ]
  },
  {
   "cell_type": "code",
   "execution_count": 221,
   "id": "77d8d8ce-d3a6-4ef5-8d25-4b82dd210c5a",
   "metadata": {
    "tags": []
   },
   "outputs": [],
   "source": [
    "train_data, valid_data, test_data = {}, {}, {}\n",
    "seq_len = y.shape[1]\n",
    "n_neurons = y.shape[-1]\n",
    "n_valid_trials = 574\n",
    "\n",
    "train_data['y_obs'] = y[:-n_valid_trials]\n",
    "train_data['velocity'] = target[:-n_valid_trials]\n",
    "train_data['n_neurons_enc'] = y.shape[-1]\n",
    "train_data['n_neurons_obs'] = y.shape[-1]\n",
    "train_data['n_time_bins_enc'] = seq_len\n",
    "\n",
    "valid_data['y_obs'] = y[-n_valid_trials:-n_valid_trials // 2]\n",
    "\n",
    "valid_data['velocity'] = target[-n_valid_trials:-n_valid_trials // 2]\n",
    "valid_data['n_neurons_enc'] = n_neurons\n",
    "train_data['n_neurons_obs'] = n_neurons\n",
    "valid_data['n_time_bins_enc'] = seq_len\n",
    "\n",
    "test_data['y_obs'] = y[-n_valid_trials // 2:]\n",
    "test_data['velocity'] = target[-n_valid_trials // 2:]\n",
    "test_data['n_neurons_enc'] = n_neurons\n",
    "test_data['n_neurons_obs'] = n_neurons\n",
    "test_data['n_time_bins_enc'] = seq_len"
   ]
  },
  {
   "cell_type": "code",
   "execution_count": 208,
   "id": "d6ed4184-365b-493e-9924-2757efaaabe3",
   "metadata": {
    "tags": []
   },
   "outputs": [],
   "source": [
    "torch.save(train_data, save_root_path + f'data_train_{binsize}ms.pt')\n",
    "torch.save(valid_data, save_root_path + f'data_valid_{binsize}ms.pt')\n",
    "torch.save(test_data, save_root_path + f'data_test_{binsize}ms.pt')"
   ]
  },
  {
   "cell_type": "code",
   "execution_count": 209,
   "id": "5e05ce20-9c75-45c8-a2b4-10f68eb64d3f",
   "metadata": {
    "tags": []
   },
   "outputs": [
    {
     "name": "stdout",
     "output_type": "stream",
     "text": [
      "# training trials: 1721\n",
      "# validation trials: 287\n",
      "# testing trials: 287\n",
      "# neurons: 182\n",
      "# time bins: 60\n",
      "# time bins used for forcasting: 20\n",
      "# predicted time bins: 40\n"
     ]
    }
   ],
   "source": [
    "data_path = 'data/data_{split}_{bin_sz_ms}ms.pt'\n",
    "train_data = torch.load(data_path.format(split='train', bin_sz_ms=cfg.bin_sz_ms))\n",
    "val_data = torch.load(data_path.format(split='valid', bin_sz_ms=cfg.bin_sz_ms))\n",
    "test_data = torch.load(data_path.format(split='test', bin_sz_ms=cfg.bin_sz_ms))\n",
    "\n",
    "y_train_obs = train_data['y_obs'].type(torch.float32).to(cfg.data_device)\n",
    "y_valid_obs = val_data['y_obs'].type(torch.float32).to(cfg.data_device)\n",
    "y_test_obs = test_data['y_obs'].type(torch.float32).to(cfg.data_device)\n",
    "\n",
    "vel_train = train_data['velocity'].type(torch.float32).to(cfg.data_device)\n",
    "vel_valid = val_data['velocity'].type(torch.float32).to(cfg.data_device)\n",
    "vel_test = test_data['velocity'].type(torch.float32).to(cfg.data_device)\n",
    "\n",
    "y_train_dataset = torch.utils.data.TensorDataset(y_train_obs, vel_train)\n",
    "y_val_dataset = torch.utils.data.TensorDataset(y_valid_obs, vel_valid)\n",
    "y_test_dataset = torch.utils.data.TensorDataset(y_test_obs, vel_test)\n",
    "\n",
    "train_dataloader = torch.utils.data.DataLoader(y_train_dataset, batch_size=cfg.batch_sz, shuffle=True)\n",
    "valid_dataloader = torch.utils.data.DataLoader(y_val_dataset, batch_size=y_valid_obs.shape[0], shuffle=False)\n",
    "test_dataloader = torch.utils.data.DataLoader(y_test_dataset, batch_size=y_valid_obs.shape[0], shuffle=False)\n",
    "\n",
    "# Data dimensions\n",
    "n_train_trials, n_time_bins, n_neurons_obs = y_train_obs.shape\n",
    "n_valid_trials = y_valid_obs.shape[0]\n",
    "n_test_trials = y_test_obs.shape[0]\n",
    "n_time_bins_enc = train_data['n_time_bins_enc']\n",
    "batch_sz_test = list(y_test_obs.shape)[:-1]\n",
    "\n",
    "print(\"# training trials: {0}\".format(n_train_trials))\n",
    "print(\"# validation trials: {0}\".format(n_valid_trials))\n",
    "print(\"# testing trials: {0}\".format(n_test_trials))\n",
    "print(\"# neurons: {0}\".format(n_neurons_obs))\n",
    "print(\"# time bins: {0}\".format(n_time_bins))\n",
    "print(\"# time bins used for forcasting: {0}\".format(cfg.n_bins_bhv))\n",
    "print(\"# predicted time bins: {0}\".format(n_time_bins - cfg.n_bins_bhv))"
   ]
  },
  {
   "cell_type": "code",
   "execution_count": null,
   "id": "d9e4b2a1-3306-49d9-9d2a-5001156663e4",
   "metadata": {
    "tags": []
   },
   "outputs": [],
   "source": [
    "y_20 = torch.load('data/data_train_20ms.pt')['y_obs'].type(torch.float32).to(cfg.data_device)\n",
    "y_10 = torch.load('data/data_train_10ms.pt')['y_obs'].type(torch.float32).to(cfg.data_device)"
   ]
  },
  {
   "cell_type": "code",
   "execution_count": null,
   "id": "6370ab74-8710-4ed0-a9a3-c520e12bbcde",
   "metadata": {
    "tags": []
   },
   "outputs": [],
   "source": [
    "y_20 == y_10"
   ]
  },
  {
   "cell_type": "code",
   "execution_count": null,
   "id": "867bbd01-62c2-4e2d-a9f2-0519d8815e51",
   "metadata": {
    "tags": []
   },
   "outputs": [],
   "source": [
    "y_20[0]"
   ]
  },
  {
   "cell_type": "code",
   "execution_count": null,
   "id": "87ed1671-281c-4f87-bac8-596ce0d6832c",
   "metadata": {
    "tags": []
   },
   "outputs": [],
   "source": [
    "y_10[0]"
   ]
  },
  {
   "cell_type": "code",
   "execution_count": null,
   "id": "1ab77a0a-e267-426b-8b1e-c2f709078c72",
   "metadata": {
    "tags": []
   },
   "outputs": [],
   "source": [
    "plt.imshow(y_20[0].T, aspect=0.4)"
   ]
  },
  {
   "cell_type": "code",
   "execution_count": null,
   "id": "ba374852-651b-4817-8c28-67b3c6320ca3",
   "metadata": {
    "tags": []
   },
   "outputs": [],
   "source": [
    "plt.imshow(y_10[0].T, aspect=0.8)"
   ]
  },
  {
   "cell_type": "code",
   "execution_count": null,
   "id": "33f858e8-8007-4ca2-96df-295475028d5d",
   "metadata": {
    "tags": []
   },
   "outputs": [],
   "source": [
    "torch.mean(y_20[0], axis=0).shape"
   ]
  },
  {
   "cell_type": "code",
   "execution_count": null,
   "id": "36e2cb54-5e24-44e4-bccb-30c2eb3090c3",
   "metadata": {
    "tags": []
   },
   "outputs": [],
   "source": [
    "torch.mean(y_10[0], axis=0).shape"
   ]
  },
  {
   "cell_type": "code",
   "execution_count": null,
   "id": "0b50b3a2-7a58-4469-ae54-899b42e5c9a4",
   "metadata": {
    "tags": []
   },
   "outputs": [],
   "source": [
    "torch.mean(torch.sum(y_20, axis=0), axis=0)"
   ]
  },
  {
   "cell_type": "code",
   "execution_count": null,
   "id": "ec865861-d167-479c-9c56-c38cf3ab9f15",
   "metadata": {
    "tags": []
   },
   "outputs": [],
   "source": [
    "torch.mean(torch.sum(y_10, axis=0), axis=0)"
   ]
  },
  {
   "cell_type": "code",
   "execution_count": null,
   "id": "25e24cc5-48a9-4a36-94c3-d1fe77729ebf",
   "metadata": {
    "tags": []
   },
   "outputs": [],
   "source": [
    "torch.sum(y_20[0], axis=0) == torch.sum(y_10[0], axis=0)"
   ]
  },
  {
   "cell_type": "code",
   "execution_count": null,
   "id": "a458697f-86ad-41b7-8070-e1fae38fed0d",
   "metadata": {},
   "outputs": [],
   "source": []
  }
 ],
 "metadata": {
  "kernelspec": {
   "display_name": "xfads",
   "language": "python",
   "name": "xfads"
  },
  "language_info": {
   "codemirror_mode": {
    "name": "ipython",
    "version": 3
   },
   "file_extension": ".py",
   "mimetype": "text/x-python",
   "name": "python",
   "nbconvert_exporter": "python",
   "pygments_lexer": "ipython3",
   "version": "3.9.19"
  }
 },
 "nbformat": 4,
 "nbformat_minor": 5
}
